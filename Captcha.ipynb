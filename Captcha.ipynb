{
 "cells": [
  {
   "cell_type": "code",
   "execution_count": 1,
   "metadata": {
    "colab": {
     "base_uri": "https://localhost:8080/",
     "height": 34
    },
    "colab_type": "code",
    "id": "8OiTr6Q8BJRY",
    "outputId": "390df602-b64e-43ed-a9b8-68c49a27a93b"
   },
   "outputs": [],
   "source": [
    "#importing libraries\n",
    "import numpy as np \n",
    "%matplotlib inline \n",
    "import matplotlib.pyplot as plt\n",
    "import os \n",
    "from keras import layers \n",
    "from keras.models import Model\n",
    "from keras.models import load_model\n",
    "from keras import callbacks \n",
    "import cv2 \n",
    "import string"
   ]
  },
  {
   "cell_type": "code",
   "execution_count": 2,
   "metadata": {
    "colab": {
     "base_uri": "https://localhost:8080/",
     "height": 1000
    },
    "colab_type": "code",
    "id": "zLmt4j-wDM6V",
    "outputId": "cbbed7e2-03ca-4b65-a281-309702d036a2"
   },
   "outputs": [],
   "source": [
    "DATA_DIR = './generated_captcha_images/'"
   ]
  },
  {
   "cell_type": "code",
   "execution_count": 3,
   "metadata": {
    "colab": {
     "base_uri": "https://localhost:8080/",
     "height": 34
    },
    "colab_type": "code",
    "id": "v8UYz7xlFPpv",
    "outputId": "fd7f5456-fd9c-49a1-b761-b8e1aa1a49b9"
   },
   "outputs": [
    {
     "data": {
      "text/plain": [
       "1136"
      ]
     },
     "execution_count": 3,
     "metadata": {},
     "output_type": "execute_result"
    }
   ],
   "source": [
    "n=len(os.listdir(DATA_DIR))\n",
    "n"
   ]
  },
  {
   "cell_type": "code",
   "execution_count": 4,
   "metadata": {
    "colab": {},
    "colab_type": "code",
    "id": "sgxopRPsDftH"
   },
   "outputs": [
    {
     "data": {
      "text/plain": [
       "(24, 72, 3)"
      ]
     },
     "execution_count": 4,
     "metadata": {},
     "output_type": "execute_result"
    }
   ],
   "source": [
    "img = cv2.imread(os.path.join('./generated_captcha_images/D3GC.png'))\n",
    "img.shape\n"
   ]
  },
  {
   "cell_type": "code",
   "execution_count": 5,
   "metadata": {},
   "outputs": [],
   "source": [
    "imgshape=(24,72,1) "
   ]
  },
  {
   "cell_type": "code",
   "execution_count": 6,
   "metadata": {
    "colab": {
     "base_uri": "https://localhost:8080/",
     "height": 34
    },
    "colab_type": "code",
    "id": "izYrJdMjD-sK",
    "outputId": "eed9b224-ccc6-4fc1-ef90-ce6fd43f0091"
   },
   "outputs": [
    {
     "data": {
      "text/plain": [
       "36"
      ]
     },
     "execution_count": 6,
     "metadata": {},
     "output_type": "execute_result"
    }
   ],
   "source": [
    "character= string.ascii_uppercase + \"0123456789\" \n",
    "nchar = len(character)\n",
    "nchar"
   ]
  },
  {
   "cell_type": "code",
   "execution_count": 7,
   "metadata": {
    "colab": {},
    "colab_type": "code",
    "id": "9-jPNkuLEW3m"
   },
   "outputs": [],
   "source": [
    "def preprocess():\n",
    "  X = np.zeros((n,24,72,1)) \n",
    "  y = np.zeros((4,n,nchar))\n",
    "\n",
    "  for i, pic in enumerate(os.listdir(DATA_DIR)):    \n",
    "    img = cv2.imread(os.path.join(DATA_DIR, pic), cv2.IMREAD_GRAYSCALE) \n",
    "    pic_target = pic[:-4]\n",
    "    \n",
    "    if len(pic_target) < 5: \n",
    "      img = img / 255.0 \n",
    "      img = np.reshape(img, (24, 72, 1)) \n",
    "\n",
    "      target=np.zeros((4,nchar)) \n",
    "\n",
    "      for j, k in enumerate(pic_target):\n",
    "    \n",
    "         index = character.find(k) \n",
    "         target[j, index] = 1 \n",
    "\n",
    "      X[i] = img \n",
    "      y[:,i] = target \n",
    "\n",
    "  return X,y"
   ]
  },
  {
   "cell_type": "code",
   "execution_count": 8,
   "metadata": {
    "colab": {},
    "colab_type": "code",
    "id": "G_FgSkCGgFOg"
   },
   "outputs": [],
   "source": [
    "#create model\n",
    "def createmodel():\n",
    "    img = layers.Input(shape=imgshape)\n",
    "    conv1 = layers.Conv2D(16, (3, 3), padding='same', activation='relu')(img) \n",
    "    mp1 = layers.MaxPooling2D(padding='same')(conv1)  \n",
    "    conv2 = layers.Conv2D(32, (3, 3), padding='same', activation='relu')(mp1)\n",
    "    mp2 = layers.MaxPooling2D(padding='same')(conv2)  \n",
    "    conv3 = layers.Conv2D(32, (3, 3), padding='same', activation='relu')(mp2)\n",
    "    bn = layers.BatchNormalization()(conv3) \n",
    "    mp3 = layers.MaxPooling2D(padding='same')(bn)  \n",
    "    \n",
    "    flat = layers.Flatten()(mp3) \n",
    "\n",
    "    outs = []\n",
    "    for _ in range(4): \n",
    "        dens1 = layers.Dense(64, activation='relu')(flat)\n",
    "        drop = layers.Dropout(0.5)(dens1) \n",
    "        res = layers.Dense(nchar, activation='sigmoid')(drop)\n",
    "\n",
    "        outs.append(res) \n",
    "    \n",
    "    \n",
    "    model = Model(img, outs) \n",
    "    model.compile(loss='categorical_crossentropy', optimizer='adam',metrics=[\"accuracy\"])\n",
    "    return model"
   ]
  },
  {
   "cell_type": "code",
   "execution_count": 9,
   "metadata": {
    "colab": {
     "base_uri": "https://localhost:8080/",
     "height": 958
    },
    "colab_type": "code",
    "id": "Tjm8on4ihGpC",
    "outputId": "557fe8e5-8435-4a11-a8fa-97cdc894c73b"
   },
   "outputs": [
    {
     "name": "stdout",
     "output_type": "stream",
     "text": [
      "Model: \"model\"\n",
      "__________________________________________________________________________________________________\n",
      " Layer (type)                   Output Shape         Param #     Connected to                     \n",
      "==================================================================================================\n",
      " input_1 (InputLayer)           [(None, 24, 72, 1)]  0           []                               \n",
      "                                                                                                  \n",
      " conv2d (Conv2D)                (None, 24, 72, 16)   160         ['input_1[0][0]']                \n",
      "                                                                                                  \n",
      " max_pooling2d (MaxPooling2D)   (None, 12, 36, 16)   0           ['conv2d[0][0]']                 \n",
      "                                                                                                  \n",
      " conv2d_1 (Conv2D)              (None, 12, 36, 32)   4640        ['max_pooling2d[0][0]']          \n",
      "                                                                                                  \n",
      " max_pooling2d_1 (MaxPooling2D)  (None, 6, 18, 32)   0           ['conv2d_1[0][0]']               \n",
      "                                                                                                  \n",
      " conv2d_2 (Conv2D)              (None, 6, 18, 32)    9248        ['max_pooling2d_1[0][0]']        \n",
      "                                                                                                  \n",
      " batch_normalization (BatchNorm  (None, 6, 18, 32)   128         ['conv2d_2[0][0]']               \n",
      " alization)                                                                                       \n",
      "                                                                                                  \n",
      " max_pooling2d_2 (MaxPooling2D)  (None, 3, 9, 32)    0           ['batch_normalization[0][0]']    \n",
      "                                                                                                  \n",
      " flatten (Flatten)              (None, 864)          0           ['max_pooling2d_2[0][0]']        \n",
      "                                                                                                  \n",
      " dense (Dense)                  (None, 64)           55360       ['flatten[0][0]']                \n",
      "                                                                                                  \n",
      " dense_2 (Dense)                (None, 64)           55360       ['flatten[0][0]']                \n",
      "                                                                                                  \n",
      " dense_4 (Dense)                (None, 64)           55360       ['flatten[0][0]']                \n",
      "                                                                                                  \n",
      " dense_6 (Dense)                (None, 64)           55360       ['flatten[0][0]']                \n",
      "                                                                                                  \n",
      " dropout (Dropout)              (None, 64)           0           ['dense[0][0]']                  \n",
      "                                                                                                  \n",
      " dropout_1 (Dropout)            (None, 64)           0           ['dense_2[0][0]']                \n",
      "                                                                                                  \n",
      " dropout_2 (Dropout)            (None, 64)           0           ['dense_4[0][0]']                \n",
      "                                                                                                  \n",
      " dropout_3 (Dropout)            (None, 64)           0           ['dense_6[0][0]']                \n",
      "                                                                                                  \n",
      " dense_1 (Dense)                (None, 36)           2340        ['dropout[0][0]']                \n",
      "                                                                                                  \n",
      " dense_3 (Dense)                (None, 36)           2340        ['dropout_1[0][0]']              \n",
      "                                                                                                  \n",
      " dense_5 (Dense)                (None, 36)           2340        ['dropout_2[0][0]']              \n",
      "                                                                                                  \n",
      " dense_7 (Dense)                (None, 36)           2340        ['dropout_3[0][0]']              \n",
      "                                                                                                  \n",
      "==================================================================================================\n",
      "Total params: 244,976\n",
      "Trainable params: 244,912\n",
      "Non-trainable params: 64\n",
      "__________________________________________________________________________________________________\n"
     ]
    }
   ],
   "source": [
    "#Create model\n",
    "model=createmodel();\n",
    "model.summary();"
   ]
  },
  {
   "cell_type": "code",
   "execution_count": 10,
   "metadata": {
    "colab": {},
    "colab_type": "code",
    "id": "qvKEQddzbFLK"
   },
   "outputs": [],
   "source": [
    "X,y=preprocess()"
   ]
  },
  {
   "cell_type": "code",
   "execution_count": 11,
   "metadata": {
    "colab": {},
    "colab_type": "code",
    "id": "qj4xlGM1lEAU"
   },
   "outputs": [
    {
     "data": {
      "text/plain": [
       "array([[[0., 0., 0., ..., 0., 0., 0.],\n",
       "        [0., 0., 0., ..., 0., 0., 0.],\n",
       "        [0., 0., 0., ..., 0., 0., 0.],\n",
       "        ...,\n",
       "        [0., 0., 0., ..., 0., 0., 0.],\n",
       "        [0., 0., 0., ..., 0., 0., 0.],\n",
       "        [0., 0., 0., ..., 0., 0., 0.]],\n",
       "\n",
       "       [[1., 0., 0., ..., 0., 0., 0.],\n",
       "        [1., 0., 0., ..., 0., 0., 0.],\n",
       "        [1., 0., 0., ..., 0., 0., 0.],\n",
       "        ...,\n",
       "        [0., 0., 0., ..., 0., 0., 0.],\n",
       "        [0., 0., 0., ..., 0., 0., 0.],\n",
       "        [0., 0., 0., ..., 0., 0., 0.]],\n",
       "\n",
       "       [[0., 0., 0., ..., 0., 0., 0.],\n",
       "        [0., 0., 0., ..., 0., 0., 0.],\n",
       "        [0., 0., 0., ..., 0., 0., 0.],\n",
       "        ...,\n",
       "        [1., 0., 0., ..., 0., 0., 0.],\n",
       "        [0., 0., 0., ..., 0., 0., 0.],\n",
       "        [0., 0., 0., ..., 0., 0., 0.]],\n",
       "\n",
       "       [[0., 0., 0., ..., 0., 0., 0.],\n",
       "        [0., 0., 0., ..., 0., 0., 0.],\n",
       "        [0., 0., 0., ..., 0., 0., 0.],\n",
       "        ...,\n",
       "        [0., 0., 0., ..., 0., 0., 0.],\n",
       "        [0., 0., 0., ..., 0., 0., 0.],\n",
       "        [0., 0., 1., ..., 0., 0., 0.]]])"
      ]
     },
     "execution_count": 11,
     "metadata": {},
     "output_type": "execute_result"
    }
   ],
   "source": [
    "X_train, y_train = X[:970], y[:, :970]\n",
    "X_test, y_test = X[970:], y[:, 970:]\n",
    "y_train"
   ]
  },
  {
   "cell_type": "code",
   "execution_count": 12,
   "metadata": {
    "colab": {
     "base_uri": "https://localhost:8080/",
     "height": 1000
    },
    "colab_type": "code",
    "id": "qcjRu_HEmLRt",
    "outputId": "fcff2f9e-a926-4445-a1dd-3e3c9aa64c34"
   },
   "outputs": [
    {
     "name": "stdout",
     "output_type": "stream",
     "text": [
      "Epoch 1/60\n",
      "25/25 [==============================] - 2s 43ms/step - loss: 14.0676 - dense_1_loss: 3.2075 - dense_3_loss: 3.5971 - dense_5_loss: 3.6362 - dense_7_loss: 3.6268 - dense_1_accuracy: 0.1778 - dense_3_accuracy: 0.0438 - dense_5_accuracy: 0.0271 - dense_7_accuracy: 0.0296 - val_loss: 14.3863 - val_dense_1_loss: 3.6551 - val_dense_3_loss: 3.5781 - val_dense_5_loss: 3.5758 - val_dense_7_loss: 3.5773 - val_dense_1_accuracy: 0.0000e+00 - val_dense_3_accuracy: 0.0000e+00 - val_dense_5_accuracy: 0.0464 - val_dense_7_accuracy: 0.0515\n",
      "Epoch 2/60\n",
      "25/25 [==============================] - 1s 29ms/step - loss: 13.4398 - dense_1_loss: 2.8416 - dense_3_loss: 3.4727 - dense_5_loss: 3.5661 - dense_7_loss: 3.5594 - dense_1_accuracy: 0.2178 - dense_3_accuracy: 0.0567 - dense_5_accuracy: 0.0309 - dense_7_accuracy: 0.0258 - val_loss: 14.3747 - val_dense_1_loss: 3.6453 - val_dense_3_loss: 3.5883 - val_dense_5_loss: 3.5688 - val_dense_7_loss: 3.5724 - val_dense_1_accuracy: 0.0000e+00 - val_dense_3_accuracy: 0.0000e+00 - val_dense_5_accuracy: 0.0206 - val_dense_7_accuracy: 0.0361\n",
      "Epoch 3/60\n",
      "25/25 [==============================] - 1s 32ms/step - loss: 12.9914 - dense_1_loss: 2.5545 - dense_3_loss: 3.3920 - dense_5_loss: 3.5357 - dense_7_loss: 3.5092 - dense_1_accuracy: 0.2255 - dense_3_accuracy: 0.0593 - dense_5_accuracy: 0.0451 - dense_7_accuracy: 0.0490 - val_loss: 14.3422 - val_dense_1_loss: 3.6292 - val_dense_3_loss: 3.5806 - val_dense_5_loss: 3.5622 - val_dense_7_loss: 3.5702 - val_dense_1_accuracy: 0.0000e+00 - val_dense_3_accuracy: 0.0000e+00 - val_dense_5_accuracy: 0.0567 - val_dense_7_accuracy: 0.0567\n",
      "Epoch 4/60\n",
      "25/25 [==============================] - 1s 32ms/step - loss: 12.5357 - dense_1_loss: 2.2959 - dense_3_loss: 3.3083 - dense_5_loss: 3.4548 - dense_7_loss: 3.4768 - dense_1_accuracy: 0.2693 - dense_3_accuracy: 0.0851 - dense_5_accuracy: 0.0593 - dense_7_accuracy: 0.0528 - val_loss: 14.3109 - val_dense_1_loss: 3.6132 - val_dense_3_loss: 3.5773 - val_dense_5_loss: 3.5517 - val_dense_7_loss: 3.5687 - val_dense_1_accuracy: 0.0000e+00 - val_dense_3_accuracy: 0.1186 - val_dense_5_accuracy: 0.0773 - val_dense_7_accuracy: 0.0515\n",
      "Epoch 5/60\n",
      "25/25 [==============================] - 1s 27ms/step - loss: 11.9415 - dense_1_loss: 2.0342 - dense_3_loss: 3.1647 - dense_5_loss: 3.3825 - dense_7_loss: 3.3602 - dense_1_accuracy: 0.3647 - dense_3_accuracy: 0.1211 - dense_5_accuracy: 0.0838 - dense_7_accuracy: 0.0760 - val_loss: 14.2751 - val_dense_1_loss: 3.6192 - val_dense_3_loss: 3.5613 - val_dense_5_loss: 3.5371 - val_dense_7_loss: 3.5575 - val_dense_1_accuracy: 0.0000e+00 - val_dense_3_accuracy: 0.0670 - val_dense_5_accuracy: 0.0464 - val_dense_7_accuracy: 0.0567\n",
      "Epoch 6/60\n",
      "25/25 [==============================] - 1s 26ms/step - loss: 11.1044 - dense_1_loss: 1.7027 - dense_3_loss: 2.9652 - dense_5_loss: 3.2435 - dense_7_loss: 3.1931 - dense_1_accuracy: 0.4369 - dense_3_accuracy: 0.1688 - dense_5_accuracy: 0.1082 - dense_7_accuracy: 0.1276 - val_loss: 14.1856 - val_dense_1_loss: 3.6241 - val_dense_3_loss: 3.5299 - val_dense_5_loss: 3.4990 - val_dense_7_loss: 3.5326 - val_dense_1_accuracy: 0.0000e+00 - val_dense_3_accuracy: 0.1031 - val_dense_5_accuracy: 0.0876 - val_dense_7_accuracy: 0.0876\n",
      "Epoch 7/60\n",
      "25/25 [==============================] - 1s 26ms/step - loss: 10.0294 - dense_1_loss: 1.3648 - dense_3_loss: 2.7071 - dense_5_loss: 2.9998 - dense_7_loss: 2.9577 - dense_1_accuracy: 0.5554 - dense_3_accuracy: 0.2345 - dense_5_accuracy: 0.1791 - dense_7_accuracy: 0.1624 - val_loss: 14.1287 - val_dense_1_loss: 3.6488 - val_dense_3_loss: 3.5109 - val_dense_5_loss: 3.4706 - val_dense_7_loss: 3.4984 - val_dense_1_accuracy: 0.0052 - val_dense_3_accuracy: 0.1546 - val_dense_5_accuracy: 0.1134 - val_dense_7_accuracy: 0.1237\n",
      "Epoch 8/60\n",
      "25/25 [==============================] - 1s 27ms/step - loss: 9.1090 - dense_1_loss: 1.0967 - dense_3_loss: 2.4681 - dense_5_loss: 2.8222 - dense_7_loss: 2.7221 - dense_1_accuracy: 0.6198 - dense_3_accuracy: 0.2590 - dense_5_accuracy: 0.1985 - dense_7_accuracy: 0.2049 - val_loss: 13.8928 - val_dense_1_loss: 3.6955 - val_dense_3_loss: 3.3940 - val_dense_5_loss: 3.3872 - val_dense_7_loss: 3.4161 - val_dense_1_accuracy: 0.0309 - val_dense_3_accuracy: 0.2268 - val_dense_5_accuracy: 0.2835 - val_dense_7_accuracy: 0.2320\n",
      "Epoch 9/60\n",
      "25/25 [==============================] - 1s 27ms/step - loss: 7.9424 - dense_1_loss: 0.8320 - dense_3_loss: 2.0585 - dense_5_loss: 2.5589 - dense_7_loss: 2.4930 - dense_1_accuracy: 0.7165 - dense_3_accuracy: 0.4111 - dense_5_accuracy: 0.2925 - dense_7_accuracy: 0.2745 - val_loss: 13.6764 - val_dense_1_loss: 3.7021 - val_dense_3_loss: 3.3338 - val_dense_5_loss: 3.2894 - val_dense_7_loss: 3.3512 - val_dense_1_accuracy: 0.0464 - val_dense_3_accuracy: 0.2732 - val_dense_5_accuracy: 0.2887 - val_dense_7_accuracy: 0.3351\n",
      "Epoch 10/60\n",
      "25/25 [==============================] - 1s 27ms/step - loss: 6.8447 - dense_1_loss: 0.6013 - dense_3_loss: 1.7170 - dense_5_loss: 2.3001 - dense_7_loss: 2.2263 - dense_1_accuracy: 0.8054 - dense_3_accuracy: 0.4729 - dense_5_accuracy: 0.2912 - dense_7_accuracy: 0.3338 - val_loss: 13.3945 - val_dense_1_loss: 3.7221 - val_dense_3_loss: 3.2154 - val_dense_5_loss: 3.2042 - val_dense_7_loss: 3.2528 - val_dense_1_accuracy: 0.1082 - val_dense_3_accuracy: 0.3454 - val_dense_5_accuracy: 0.3041 - val_dense_7_accuracy: 0.2629\n",
      "Epoch 11/60\n",
      "25/25 [==============================] - 1s 27ms/step - loss: 5.8267 - dense_1_loss: 0.4544 - dense_3_loss: 1.4284 - dense_5_loss: 2.1099 - dense_7_loss: 1.8340 - dense_1_accuracy: 0.8518 - dense_3_accuracy: 0.5735 - dense_5_accuracy: 0.3789 - dense_7_accuracy: 0.4536 - val_loss: 12.9940 - val_dense_1_loss: 3.7651 - val_dense_3_loss: 3.0438 - val_dense_5_loss: 3.0764 - val_dense_7_loss: 3.1086 - val_dense_1_accuracy: 0.1598 - val_dense_3_accuracy: 0.3711 - val_dense_5_accuracy: 0.3814 - val_dense_7_accuracy: 0.4278\n",
      "Epoch 12/60\n",
      "25/25 [==============================] - 1s 28ms/step - loss: 4.9474 - dense_1_loss: 0.3810 - dense_3_loss: 1.1304 - dense_5_loss: 1.8164 - dense_7_loss: 1.6196 - dense_1_accuracy: 0.8763 - dense_3_accuracy: 0.6469 - dense_5_accuracy: 0.4124 - dense_7_accuracy: 0.5116 - val_loss: 12.5536 - val_dense_1_loss: 3.8409 - val_dense_3_loss: 2.9012 - val_dense_5_loss: 2.8944 - val_dense_7_loss: 2.9171 - val_dense_1_accuracy: 0.1340 - val_dense_3_accuracy: 0.4021 - val_dense_5_accuracy: 0.4742 - val_dense_7_accuracy: 0.4845\n",
      "Epoch 13/60\n",
      "25/25 [==============================] - 1s 27ms/step - loss: 4.2902 - dense_1_loss: 0.2872 - dense_3_loss: 0.9685 - dense_5_loss: 1.6787 - dense_7_loss: 1.3558 - dense_1_accuracy: 0.9098 - dense_3_accuracy: 0.7216 - dense_5_accuracy: 0.4729 - dense_7_accuracy: 0.5876 - val_loss: 12.1393 - val_dense_1_loss: 4.1101 - val_dense_3_loss: 2.7334 - val_dense_5_loss: 2.6342 - val_dense_7_loss: 2.6616 - val_dense_1_accuracy: 0.0876 - val_dense_3_accuracy: 0.4227 - val_dense_5_accuracy: 0.5567 - val_dense_7_accuracy: 0.5515\n",
      "Epoch 14/60\n",
      "25/25 [==============================] - 1s 27ms/step - loss: 3.6645 - dense_1_loss: 0.2253 - dense_3_loss: 0.7663 - dense_5_loss: 1.4821 - dense_7_loss: 1.1908 - dense_1_accuracy: 0.9369 - dense_3_accuracy: 0.7590 - dense_5_accuracy: 0.5335 - dense_7_accuracy: 0.6095 - val_loss: 11.6931 - val_dense_1_loss: 4.3879 - val_dense_3_loss: 2.4339 - val_dense_5_loss: 2.4521 - val_dense_7_loss: 2.4192 - val_dense_1_accuracy: 0.1340 - val_dense_3_accuracy: 0.4897 - val_dense_5_accuracy: 0.6237 - val_dense_7_accuracy: 0.6546\n",
      "Epoch 15/60\n",
      "25/25 [==============================] - 1s 27ms/step - loss: 3.1364 - dense_1_loss: 0.2017 - dense_3_loss: 0.7029 - dense_5_loss: 1.2631 - dense_7_loss: 0.9687 - dense_1_accuracy: 0.9343 - dense_3_accuracy: 0.7784 - dense_5_accuracy: 0.5992 - dense_7_accuracy: 0.7010 - val_loss: 11.4705 - val_dense_1_loss: 4.7393 - val_dense_3_loss: 2.3297 - val_dense_5_loss: 2.2118 - val_dense_7_loss: 2.1897 - val_dense_1_accuracy: 0.1237 - val_dense_3_accuracy: 0.4381 - val_dense_5_accuracy: 0.6443 - val_dense_7_accuracy: 0.6443\n",
      "Epoch 16/60\n"
     ]
    },
    {
     "name": "stdout",
     "output_type": "stream",
     "text": [
      "25/25 [==============================] - 1s 30ms/step - loss: 2.6557 - dense_1_loss: 0.1326 - dense_3_loss: 0.5740 - dense_5_loss: 1.0727 - dense_7_loss: 0.8765 - dense_1_accuracy: 0.9613 - dense_3_accuracy: 0.8093 - dense_5_accuracy: 0.6469 - dense_7_accuracy: 0.7165 - val_loss: 10.9215 - val_dense_1_loss: 5.1331 - val_dense_3_loss: 2.0308 - val_dense_5_loss: 1.8688 - val_dense_7_loss: 1.8888 - val_dense_1_accuracy: 0.1959 - val_dense_3_accuracy: 0.4794 - val_dense_5_accuracy: 0.6753 - val_dense_7_accuracy: 0.7165\n",
      "Epoch 17/60\n",
      "25/25 [==============================] - 1s 33ms/step - loss: 2.2591 - dense_1_loss: 0.1426 - dense_3_loss: 0.4523 - dense_5_loss: 0.9366 - dense_7_loss: 0.7277 - dense_1_accuracy: 0.9562 - dense_3_accuracy: 0.8557 - dense_5_accuracy: 0.7229 - dense_7_accuracy: 0.7732 - val_loss: 10.8148 - val_dense_1_loss: 5.3612 - val_dense_3_loss: 2.1174 - val_dense_5_loss: 1.6822 - val_dense_7_loss: 1.6540 - val_dense_1_accuracy: 0.1753 - val_dense_3_accuracy: 0.5000 - val_dense_5_accuracy: 0.7371 - val_dense_7_accuracy: 0.7268\n",
      "Epoch 18/60\n",
      "25/25 [==============================] - 1s 33ms/step - loss: 1.9652 - dense_1_loss: 0.0955 - dense_3_loss: 0.4264 - dense_5_loss: 0.7791 - dense_7_loss: 0.6641 - dense_1_accuracy: 0.9704 - dense_3_accuracy: 0.8647 - dense_5_accuracy: 0.7500 - dense_7_accuracy: 0.8041 - val_loss: 10.8704 - val_dense_1_loss: 6.1257 - val_dense_3_loss: 1.9270 - val_dense_5_loss: 1.3795 - val_dense_7_loss: 1.4382 - val_dense_1_accuracy: 0.1701 - val_dense_3_accuracy: 0.4897 - val_dense_5_accuracy: 0.7371 - val_dense_7_accuracy: 0.7371\n",
      "Epoch 19/60\n",
      "25/25 [==============================] - 1s 33ms/step - loss: 1.6738 - dense_1_loss: 0.0771 - dense_3_loss: 0.3429 - dense_5_loss: 0.6909 - dense_7_loss: 0.5630 - dense_1_accuracy: 0.9742 - dense_3_accuracy: 0.8879 - dense_5_accuracy: 0.7861 - dense_7_accuracy: 0.8106 - val_loss: 11.1331 - val_dense_1_loss: 6.8994 - val_dense_3_loss: 1.8229 - val_dense_5_loss: 1.2302 - val_dense_7_loss: 1.1805 - val_dense_1_accuracy: 0.1804 - val_dense_3_accuracy: 0.5103 - val_dense_5_accuracy: 0.7474 - val_dense_7_accuracy: 0.7732\n",
      "Epoch 20/60\n",
      "25/25 [==============================] - 1s 32ms/step - loss: 1.6062 - dense_1_loss: 0.0935 - dense_3_loss: 0.3272 - dense_5_loss: 0.6606 - dense_7_loss: 0.5249 - dense_1_accuracy: 0.9768 - dense_3_accuracy: 0.8943 - dense_5_accuracy: 0.8093 - dense_7_accuracy: 0.8144 - val_loss: 10.6047 - val_dense_1_loss: 6.8705 - val_dense_3_loss: 1.6295 - val_dense_5_loss: 1.0160 - val_dense_7_loss: 1.0886 - val_dense_1_accuracy: 0.1856 - val_dense_3_accuracy: 0.5361 - val_dense_5_accuracy: 0.8299 - val_dense_7_accuracy: 0.7732\n",
      "Epoch 21/60\n",
      "25/25 [==============================] - 1s 33ms/step - loss: 1.3683 - dense_1_loss: 0.0584 - dense_3_loss: 0.2942 - dense_5_loss: 0.5881 - dense_7_loss: 0.4276 - dense_1_accuracy: 0.9858 - dense_3_accuracy: 0.9098 - dense_5_accuracy: 0.8106 - dense_7_accuracy: 0.8647 - val_loss: 11.7862 - val_dense_1_loss: 8.3848 - val_dense_3_loss: 1.6470 - val_dense_5_loss: 0.8686 - val_dense_7_loss: 0.8857 - val_dense_1_accuracy: 0.1804 - val_dense_3_accuracy: 0.5361 - val_dense_5_accuracy: 0.7887 - val_dense_7_accuracy: 0.7835\n",
      "Epoch 22/60\n",
      "25/25 [==============================] - 1s 33ms/step - loss: 1.2652 - dense_1_loss: 0.0614 - dense_3_loss: 0.2438 - dense_5_loss: 0.5624 - dense_7_loss: 0.3976 - dense_1_accuracy: 0.9781 - dense_3_accuracy: 0.9343 - dense_5_accuracy: 0.8144 - dense_7_accuracy: 0.8814 - val_loss: 11.3960 - val_dense_1_loss: 8.3018 - val_dense_3_loss: 1.5210 - val_dense_5_loss: 0.7895 - val_dense_7_loss: 0.7837 - val_dense_1_accuracy: 0.1856 - val_dense_3_accuracy: 0.5876 - val_dense_5_accuracy: 0.7990 - val_dense_7_accuracy: 0.8351\n",
      "Epoch 23/60\n",
      "25/25 [==============================] - 1s 33ms/step - loss: 1.1238 - dense_1_loss: 0.0603 - dense_3_loss: 0.2392 - dense_5_loss: 0.4565 - dense_7_loss: 0.3677 - dense_1_accuracy: 0.9794 - dense_3_accuracy: 0.9175 - dense_5_accuracy: 0.8544 - dense_7_accuracy: 0.8956 - val_loss: 12.0682 - val_dense_1_loss: 9.1725 - val_dense_3_loss: 1.4858 - val_dense_5_loss: 0.7033 - val_dense_7_loss: 0.7066 - val_dense_1_accuracy: 0.1907 - val_dense_3_accuracy: 0.5928 - val_dense_5_accuracy: 0.8093 - val_dense_7_accuracy: 0.8299\n",
      "Epoch 24/60\n",
      "25/25 [==============================] - 1s 32ms/step - loss: 1.0875 - dense_1_loss: 0.0439 - dense_3_loss: 0.2089 - dense_5_loss: 0.4816 - dense_7_loss: 0.3531 - dense_1_accuracy: 0.9871 - dense_3_accuracy: 0.9343 - dense_5_accuracy: 0.8338 - dense_7_accuracy: 0.8892 - val_loss: 12.9500 - val_dense_1_loss: 10.0981 - val_dense_3_loss: 1.6352 - val_dense_5_loss: 0.5865 - val_dense_7_loss: 0.6302 - val_dense_1_accuracy: 0.1804 - val_dense_3_accuracy: 0.5670 - val_dense_5_accuracy: 0.8454 - val_dense_7_accuracy: 0.8402\n",
      "Epoch 25/60\n",
      "25/25 [==============================] - 1s 34ms/step - loss: 0.9135 - dense_1_loss: 0.0495 - dense_3_loss: 0.1867 - dense_5_loss: 0.4311 - dense_7_loss: 0.2463 - dense_1_accuracy: 0.9820 - dense_3_accuracy: 0.9459 - dense_5_accuracy: 0.8673 - dense_7_accuracy: 0.9343 - val_loss: 13.5819 - val_dense_1_loss: 10.7760 - val_dense_3_loss: 1.5747 - val_dense_5_loss: 0.6339 - val_dense_7_loss: 0.5973 - val_dense_1_accuracy: 0.1959 - val_dense_3_accuracy: 0.5825 - val_dense_5_accuracy: 0.8247 - val_dense_7_accuracy: 0.8196\n",
      "Epoch 26/60\n",
      "25/25 [==============================] - 1s 32ms/step - loss: 0.9256 - dense_1_loss: 0.0482 - dense_3_loss: 0.2088 - dense_5_loss: 0.3759 - dense_7_loss: 0.2928 - dense_1_accuracy: 0.9832 - dense_3_accuracy: 0.9291 - dense_5_accuracy: 0.8776 - dense_7_accuracy: 0.9072 - val_loss: 14.4810 - val_dense_1_loss: 11.6220 - val_dense_3_loss: 1.8429 - val_dense_5_loss: 0.4837 - val_dense_7_loss: 0.5324 - val_dense_1_accuracy: 0.1649 - val_dense_3_accuracy: 0.5361 - val_dense_5_accuracy: 0.8866 - val_dense_7_accuracy: 0.8196\n",
      "Epoch 27/60\n",
      "25/25 [==============================] - 1s 33ms/step - loss: 0.8134 - dense_1_loss: 0.0327 - dense_3_loss: 0.1795 - dense_5_loss: 0.3531 - dense_7_loss: 0.2481 - dense_1_accuracy: 0.9923 - dense_3_accuracy: 0.9317 - dense_5_accuracy: 0.8853 - dense_7_accuracy: 0.9214 - val_loss: 15.1748 - val_dense_1_loss: 12.5098 - val_dense_3_loss: 1.6299 - val_dense_5_loss: 0.5164 - val_dense_7_loss: 0.5186 - val_dense_1_accuracy: 0.1959 - val_dense_3_accuracy: 0.5722 - val_dense_5_accuracy: 0.8505 - val_dense_7_accuracy: 0.8454\n",
      "Epoch 28/60\n",
      "25/25 [==============================] - 1s 33ms/step - loss: 0.7881 - dense_1_loss: 0.0429 - dense_3_loss: 0.1789 - dense_5_loss: 0.3598 - dense_7_loss: 0.2066 - dense_1_accuracy: 0.9871 - dense_3_accuracy: 0.9459 - dense_5_accuracy: 0.8724 - dense_7_accuracy: 0.9304 - val_loss: 16.5373 - val_dense_1_loss: 13.6673 - val_dense_3_loss: 1.7874 - val_dense_5_loss: 0.5865 - val_dense_7_loss: 0.4962 - val_dense_1_accuracy: 0.1804 - val_dense_3_accuracy: 0.5464 - val_dense_5_accuracy: 0.7990 - val_dense_7_accuracy: 0.8660\n",
      "Epoch 29/60\n",
      "25/25 [==============================] - 1s 33ms/step - loss: 0.6679 - dense_1_loss: 0.0294 - dense_3_loss: 0.1239 - dense_5_loss: 0.2773 - dense_7_loss: 0.2374 - dense_1_accuracy: 0.9897 - dense_3_accuracy: 0.9613 - dense_5_accuracy: 0.9162 - dense_7_accuracy: 0.9240 - val_loss: 16.8895 - val_dense_1_loss: 14.0438 - val_dense_3_loss: 1.7938 - val_dense_5_loss: 0.5473 - val_dense_7_loss: 0.5046 - val_dense_1_accuracy: 0.1907 - val_dense_3_accuracy: 0.5876 - val_dense_5_accuracy: 0.8247 - val_dense_7_accuracy: 0.8608\n",
      "Epoch 30/60\n",
      "25/25 [==============================] - 1s 33ms/step - loss: 0.6275 - dense_1_loss: 0.0329 - dense_3_loss: 0.1249 - dense_5_loss: 0.2587 - dense_7_loss: 0.2110 - dense_1_accuracy: 0.9884 - dense_3_accuracy: 0.9536 - dense_5_accuracy: 0.9214 - dense_7_accuracy: 0.9343 - val_loss: 16.5248 - val_dense_1_loss: 13.8904 - val_dense_3_loss: 1.6693 - val_dense_5_loss: 0.5166 - val_dense_7_loss: 0.4485 - val_dense_1_accuracy: 0.1392 - val_dense_3_accuracy: 0.6031 - val_dense_5_accuracy: 0.8454 - val_dense_7_accuracy: 0.8557\n",
      "Epoch 31/60\n"
     ]
    },
    {
     "name": "stdout",
     "output_type": "stream",
     "text": [
      "25/25 [==============================] - 1s 33ms/step - loss: 0.5966 - dense_1_loss: 0.0301 - dense_3_loss: 0.1125 - dense_5_loss: 0.2761 - dense_7_loss: 0.1780 - dense_1_accuracy: 0.9884 - dense_3_accuracy: 0.9639 - dense_5_accuracy: 0.9149 - dense_7_accuracy: 0.9407 - val_loss: 17.6751 - val_dense_1_loss: 15.0416 - val_dense_3_loss: 1.7492 - val_dense_5_loss: 0.4160 - val_dense_7_loss: 0.4684 - val_dense_1_accuracy: 0.1649 - val_dense_3_accuracy: 0.5928 - val_dense_5_accuracy: 0.8505 - val_dense_7_accuracy: 0.8505\n",
      "Epoch 32/60\n",
      "25/25 [==============================] - 1s 33ms/step - loss: 0.5840 - dense_1_loss: 0.0217 - dense_3_loss: 0.1208 - dense_5_loss: 0.2393 - dense_7_loss: 0.2021 - dense_1_accuracy: 0.9948 - dense_3_accuracy: 0.9626 - dense_5_accuracy: 0.9240 - dense_7_accuracy: 0.9407 - val_loss: 17.0046 - val_dense_1_loss: 14.1050 - val_dense_3_loss: 1.9855 - val_dense_5_loss: 0.4532 - val_dense_7_loss: 0.4609 - val_dense_1_accuracy: 0.1237 - val_dense_3_accuracy: 0.5567 - val_dense_5_accuracy: 0.8814 - val_dense_7_accuracy: 0.8454\n",
      "Epoch 33/60\n",
      "25/25 [==============================] - 1s 34ms/step - loss: 0.5559 - dense_1_loss: 0.0293 - dense_3_loss: 0.0998 - dense_5_loss: 0.2364 - dense_7_loss: 0.1905 - dense_1_accuracy: 0.9923 - dense_3_accuracy: 0.9716 - dense_5_accuracy: 0.9059 - dense_7_accuracy: 0.9394 - val_loss: 16.6042 - val_dense_1_loss: 14.2382 - val_dense_3_loss: 1.5098 - val_dense_5_loss: 0.4679 - val_dense_7_loss: 0.3883 - val_dense_1_accuracy: 0.1753 - val_dense_3_accuracy: 0.6289 - val_dense_5_accuracy: 0.8505 - val_dense_7_accuracy: 0.8918\n",
      "Epoch 34/60\n",
      "25/25 [==============================] - 1s 33ms/step - loss: 0.5115 - dense_1_loss: 0.0315 - dense_3_loss: 0.1054 - dense_5_loss: 0.2256 - dense_7_loss: 0.1490 - dense_1_accuracy: 0.9936 - dense_3_accuracy: 0.9678 - dense_5_accuracy: 0.9240 - dense_7_accuracy: 0.9575 - val_loss: 16.7885 - val_dense_1_loss: 14.1866 - val_dense_3_loss: 1.7559 - val_dense_5_loss: 0.4414 - val_dense_7_loss: 0.4046 - val_dense_1_accuracy: 0.1392 - val_dense_3_accuracy: 0.5928 - val_dense_5_accuracy: 0.8557 - val_dense_7_accuracy: 0.8763\n",
      "Epoch 35/60\n",
      "25/25 [==============================] - 1s 33ms/step - loss: 0.4718 - dense_1_loss: 0.0342 - dense_3_loss: 0.0884 - dense_5_loss: 0.2052 - dense_7_loss: 0.1440 - dense_1_accuracy: 0.9871 - dense_3_accuracy: 0.9678 - dense_5_accuracy: 0.9343 - dense_7_accuracy: 0.9601 - val_loss: 16.8820 - val_dense_1_loss: 14.3246 - val_dense_3_loss: 1.7644 - val_dense_5_loss: 0.4062 - val_dense_7_loss: 0.3868 - val_dense_1_accuracy: 0.1804 - val_dense_3_accuracy: 0.5928 - val_dense_5_accuracy: 0.8711 - val_dense_7_accuracy: 0.8969\n",
      "Epoch 36/60\n",
      "25/25 [==============================] - 1s 32ms/step - loss: 0.5175 - dense_1_loss: 0.0266 - dense_3_loss: 0.0867 - dense_5_loss: 0.2410 - dense_7_loss: 0.1632 - dense_1_accuracy: 0.9884 - dense_3_accuracy: 0.9755 - dense_5_accuracy: 0.9137 - dense_7_accuracy: 0.9497 - val_loss: 18.9598 - val_dense_1_loss: 15.8556 - val_dense_3_loss: 2.2349 - val_dense_5_loss: 0.4253 - val_dense_7_loss: 0.4440 - val_dense_1_accuracy: 0.1804 - val_dense_3_accuracy: 0.5515 - val_dense_5_accuracy: 0.8660 - val_dense_7_accuracy: 0.8763\n",
      "Epoch 37/60\n",
      "25/25 [==============================] - 1s 33ms/step - loss: 0.4926 - dense_1_loss: 0.0134 - dense_3_loss: 0.1021 - dense_5_loss: 0.2142 - dense_7_loss: 0.1628 - dense_1_accuracy: 0.9961 - dense_3_accuracy: 0.9691 - dense_5_accuracy: 0.9317 - dense_7_accuracy: 0.9459 - val_loss: 17.8271 - val_dense_1_loss: 15.3074 - val_dense_3_loss: 1.6181 - val_dense_5_loss: 0.4641 - val_dense_7_loss: 0.4374 - val_dense_1_accuracy: 0.1495 - val_dense_3_accuracy: 0.6598 - val_dense_5_accuracy: 0.8402 - val_dense_7_accuracy: 0.8660\n",
      "Epoch 38/60\n",
      "25/25 [==============================] - 1s 32ms/step - loss: 0.4929 - dense_1_loss: 0.0187 - dense_3_loss: 0.1073 - dense_5_loss: 0.2057 - dense_7_loss: 0.1612 - dense_1_accuracy: 0.9936 - dense_3_accuracy: 0.9626 - dense_5_accuracy: 0.9343 - dense_7_accuracy: 0.9420 - val_loss: 17.7504 - val_dense_1_loss: 15.3188 - val_dense_3_loss: 1.6451 - val_dense_5_loss: 0.4648 - val_dense_7_loss: 0.3218 - val_dense_1_accuracy: 0.1804 - val_dense_3_accuracy: 0.6443 - val_dense_5_accuracy: 0.8402 - val_dense_7_accuracy: 0.9124\n",
      "Epoch 39/60\n",
      "25/25 [==============================] - 1s 32ms/step - loss: 0.4563 - dense_1_loss: 0.0180 - dense_3_loss: 0.0888 - dense_5_loss: 0.1919 - dense_7_loss: 0.1576 - dense_1_accuracy: 0.9923 - dense_3_accuracy: 0.9691 - dense_5_accuracy: 0.9330 - dense_7_accuracy: 0.9536 - val_loss: 17.9839 - val_dense_1_loss: 15.2085 - val_dense_3_loss: 2.0001 - val_dense_5_loss: 0.3712 - val_dense_7_loss: 0.4042 - val_dense_1_accuracy: 0.1701 - val_dense_3_accuracy: 0.6031 - val_dense_5_accuracy: 0.8763 - val_dense_7_accuracy: 0.8608\n",
      "Epoch 40/60\n",
      "25/25 [==============================] - 1s 33ms/step - loss: 0.3848 - dense_1_loss: 0.0247 - dense_3_loss: 0.0637 - dense_5_loss: 0.1829 - dense_7_loss: 0.1135 - dense_1_accuracy: 0.9897 - dense_3_accuracy: 0.9781 - dense_5_accuracy: 0.9510 - dense_7_accuracy: 0.9678 - val_loss: 17.6381 - val_dense_1_loss: 14.9696 - val_dense_3_loss: 1.9203 - val_dense_5_loss: 0.3776 - val_dense_7_loss: 0.3706 - val_dense_1_accuracy: 0.1649 - val_dense_3_accuracy: 0.5876 - val_dense_5_accuracy: 0.8763 - val_dense_7_accuracy: 0.8660\n",
      "Epoch 41/60\n",
      "25/25 [==============================] - 1s 32ms/step - loss: 0.4983 - dense_1_loss: 0.0169 - dense_3_loss: 0.0890 - dense_5_loss: 0.2467 - dense_7_loss: 0.1457 - dense_1_accuracy: 0.9948 - dense_3_accuracy: 0.9691 - dense_5_accuracy: 0.9240 - dense_7_accuracy: 0.9510 - val_loss: 19.2420 - val_dense_1_loss: 16.5305 - val_dense_3_loss: 1.9474 - val_dense_5_loss: 0.4043 - val_dense_7_loss: 0.3598 - val_dense_1_accuracy: 0.1753 - val_dense_3_accuracy: 0.6134 - val_dense_5_accuracy: 0.8402 - val_dense_7_accuracy: 0.8969\n",
      "Epoch 42/60\n",
      "25/25 [==============================] - 1s 32ms/step - loss: 0.4142 - dense_1_loss: 0.0253 - dense_3_loss: 0.0891 - dense_5_loss: 0.1851 - dense_7_loss: 0.1148 - dense_1_accuracy: 0.9936 - dense_3_accuracy: 0.9755 - dense_5_accuracy: 0.9407 - dense_7_accuracy: 0.9639 - val_loss: 19.1532 - val_dense_1_loss: 16.6178 - val_dense_3_loss: 1.7956 - val_dense_5_loss: 0.3593 - val_dense_7_loss: 0.3804 - val_dense_1_accuracy: 0.1443 - val_dense_3_accuracy: 0.6186 - val_dense_5_accuracy: 0.8763 - val_dense_7_accuracy: 0.8969\n",
      "Epoch 43/60\n",
      "25/25 [==============================] - 1s 32ms/step - loss: 0.3450 - dense_1_loss: 0.0238 - dense_3_loss: 0.0614 - dense_5_loss: 0.1558 - dense_7_loss: 0.1040 - dense_1_accuracy: 0.9948 - dense_3_accuracy: 0.9845 - dense_5_accuracy: 0.9394 - dense_7_accuracy: 0.9652 - val_loss: 18.8577 - val_dense_1_loss: 16.1914 - val_dense_3_loss: 1.9432 - val_dense_5_loss: 0.3808 - val_dense_7_loss: 0.3423 - val_dense_1_accuracy: 0.1701 - val_dense_3_accuracy: 0.6082 - val_dense_5_accuracy: 0.8711 - val_dense_7_accuracy: 0.8969\n",
      "Epoch 44/60\n",
      "25/25 [==============================] - 1s 32ms/step - loss: 0.3734 - dense_1_loss: 0.0195 - dense_3_loss: 0.0640 - dense_5_loss: 0.1668 - dense_7_loss: 0.1231 - dense_1_accuracy: 0.9910 - dense_3_accuracy: 0.9820 - dense_5_accuracy: 0.9394 - dense_7_accuracy: 0.9588 - val_loss: 19.7739 - val_dense_1_loss: 17.0449 - val_dense_3_loss: 2.0341 - val_dense_5_loss: 0.3739 - val_dense_7_loss: 0.3210 - val_dense_1_accuracy: 0.1907 - val_dense_3_accuracy: 0.5928 - val_dense_5_accuracy: 0.8557 - val_dense_7_accuracy: 0.9021\n",
      "Epoch 45/60\n",
      "25/25 [==============================] - 1s 32ms/step - loss: 0.4108 - dense_1_loss: 0.0168 - dense_3_loss: 0.0933 - dense_5_loss: 0.1696 - dense_7_loss: 0.1311 - dense_1_accuracy: 0.9948 - dense_3_accuracy: 0.9652 - dense_5_accuracy: 0.9472 - dense_7_accuracy: 0.9601 - val_loss: 18.8681 - val_dense_1_loss: 16.5144 - val_dense_3_loss: 1.6889 - val_dense_5_loss: 0.3478 - val_dense_7_loss: 0.3170 - val_dense_1_accuracy: 0.1856 - val_dense_3_accuracy: 0.6289 - val_dense_5_accuracy: 0.8660 - val_dense_7_accuracy: 0.9072\n",
      "Epoch 46/60\n"
     ]
    },
    {
     "name": "stdout",
     "output_type": "stream",
     "text": [
      "25/25 [==============================] - 1s 32ms/step - loss: 0.3135 - dense_1_loss: 0.0121 - dense_3_loss: 0.0604 - dense_5_loss: 0.1173 - dense_7_loss: 0.1236 - dense_1_accuracy: 0.9974 - dense_3_accuracy: 0.9820 - dense_5_accuracy: 0.9691 - dense_7_accuracy: 0.9588 - val_loss: 19.1859 - val_dense_1_loss: 16.7867 - val_dense_3_loss: 1.7599 - val_dense_5_loss: 0.3304 - val_dense_7_loss: 0.3089 - val_dense_1_accuracy: 0.1753 - val_dense_3_accuracy: 0.6340 - val_dense_5_accuracy: 0.8969 - val_dense_7_accuracy: 0.9124\n",
      "Epoch 47/60\n",
      "25/25 [==============================] - 1s 32ms/step - loss: 0.3269 - dense_1_loss: 0.0151 - dense_3_loss: 0.0643 - dense_5_loss: 0.1472 - dense_7_loss: 0.1003 - dense_1_accuracy: 0.9923 - dense_3_accuracy: 0.9794 - dense_5_accuracy: 0.9523 - dense_7_accuracy: 0.9665 - val_loss: 19.1252 - val_dense_1_loss: 16.6206 - val_dense_3_loss: 1.8476 - val_dense_5_loss: 0.3288 - val_dense_7_loss: 0.3282 - val_dense_1_accuracy: 0.1907 - val_dense_3_accuracy: 0.6237 - val_dense_5_accuracy: 0.8918 - val_dense_7_accuracy: 0.8969\n",
      "Epoch 48/60\n",
      "25/25 [==============================] - 1s 32ms/step - loss: 0.2863 - dense_1_loss: 0.0110 - dense_3_loss: 0.0567 - dense_5_loss: 0.1327 - dense_7_loss: 0.0860 - dense_1_accuracy: 0.9974 - dense_3_accuracy: 0.9794 - dense_5_accuracy: 0.9523 - dense_7_accuracy: 0.9742 - val_loss: 19.1756 - val_dense_1_loss: 16.5244 - val_dense_3_loss: 1.9819 - val_dense_5_loss: 0.3442 - val_dense_7_loss: 0.3251 - val_dense_1_accuracy: 0.2010 - val_dense_3_accuracy: 0.6134 - val_dense_5_accuracy: 0.8660 - val_dense_7_accuracy: 0.9227\n",
      "Epoch 49/60\n",
      "25/25 [==============================] - 1s 32ms/step - loss: 0.3024 - dense_1_loss: 0.0165 - dense_3_loss: 0.0594 - dense_5_loss: 0.1421 - dense_7_loss: 0.0845 - dense_1_accuracy: 0.9936 - dense_3_accuracy: 0.9781 - dense_5_accuracy: 0.9523 - dense_7_accuracy: 0.9755 - val_loss: 19.3736 - val_dense_1_loss: 17.1538 - val_dense_3_loss: 1.6138 - val_dense_5_loss: 0.3162 - val_dense_7_loss: 0.2898 - val_dense_1_accuracy: 0.1804 - val_dense_3_accuracy: 0.6753 - val_dense_5_accuracy: 0.8918 - val_dense_7_accuracy: 0.9278\n",
      "Epoch 50/60\n",
      "25/25 [==============================] - 1s 32ms/step - loss: 0.2517 - dense_1_loss: 0.0127 - dense_3_loss: 0.0517 - dense_5_loss: 0.0939 - dense_7_loss: 0.0933 - dense_1_accuracy: 0.9948 - dense_3_accuracy: 0.9884 - dense_5_accuracy: 0.9639 - dense_7_accuracy: 0.9665 - val_loss: 20.0791 - val_dense_1_loss: 17.7656 - val_dense_3_loss: 1.6702 - val_dense_5_loss: 0.3536 - val_dense_7_loss: 0.2897 - val_dense_1_accuracy: 0.1907 - val_dense_3_accuracy: 0.6753 - val_dense_5_accuracy: 0.8660 - val_dense_7_accuracy: 0.9330\n",
      "Epoch 51/60\n",
      "25/25 [==============================] - 1s 32ms/step - loss: 0.3265 - dense_1_loss: 0.0132 - dense_3_loss: 0.0758 - dense_5_loss: 0.1313 - dense_7_loss: 0.1062 - dense_1_accuracy: 0.9961 - dense_3_accuracy: 0.9781 - dense_5_accuracy: 0.9549 - dense_7_accuracy: 0.9562 - val_loss: 19.5121 - val_dense_1_loss: 16.8649 - val_dense_3_loss: 2.0705 - val_dense_5_loss: 0.2758 - val_dense_7_loss: 0.3009 - val_dense_1_accuracy: 0.2010 - val_dense_3_accuracy: 0.6237 - val_dense_5_accuracy: 0.9072 - val_dense_7_accuracy: 0.9072\n",
      "Epoch 52/60\n",
      "25/25 [==============================] - 1s 31ms/step - loss: 0.2934 - dense_1_loss: 0.0131 - dense_3_loss: 0.0600 - dense_5_loss: 0.1382 - dense_7_loss: 0.0822 - dense_1_accuracy: 0.9961 - dense_3_accuracy: 0.9781 - dense_5_accuracy: 0.9549 - dense_7_accuracy: 0.9652 - val_loss: 20.8755 - val_dense_1_loss: 18.1070 - val_dense_3_loss: 2.1147 - val_dense_5_loss: 0.3144 - val_dense_7_loss: 0.3394 - val_dense_1_accuracy: 0.1856 - val_dense_3_accuracy: 0.5979 - val_dense_5_accuracy: 0.9072 - val_dense_7_accuracy: 0.8969\n",
      "Epoch 53/60\n",
      "25/25 [==============================] - 1s 32ms/step - loss: 0.2853 - dense_1_loss: 0.0186 - dense_3_loss: 0.0569 - dense_5_loss: 0.1170 - dense_7_loss: 0.0928 - dense_1_accuracy: 0.9923 - dense_3_accuracy: 0.9897 - dense_5_accuracy: 0.9652 - dense_7_accuracy: 0.9704 - val_loss: 18.5247 - val_dense_1_loss: 16.2298 - val_dense_3_loss: 1.6206 - val_dense_5_loss: 0.3595 - val_dense_7_loss: 0.3147 - val_dense_1_accuracy: 0.1804 - val_dense_3_accuracy: 0.6340 - val_dense_5_accuracy: 0.8918 - val_dense_7_accuracy: 0.9072\n",
      "Epoch 54/60\n",
      "25/25 [==============================] - 1s 32ms/step - loss: 0.2891 - dense_1_loss: 0.0277 - dense_3_loss: 0.0575 - dense_5_loss: 0.1190 - dense_7_loss: 0.0850 - dense_1_accuracy: 0.9910 - dense_3_accuracy: 0.9794 - dense_5_accuracy: 0.9613 - dense_7_accuracy: 0.9678 - val_loss: 20.3288 - val_dense_1_loss: 17.2951 - val_dense_3_loss: 2.3357 - val_dense_5_loss: 0.3007 - val_dense_7_loss: 0.3973 - val_dense_1_accuracy: 0.1443 - val_dense_3_accuracy: 0.5722 - val_dense_5_accuracy: 0.9124 - val_dense_7_accuracy: 0.8814\n",
      "Epoch 55/60\n",
      "25/25 [==============================] - 1s 32ms/step - loss: 0.2528 - dense_1_loss: 0.0256 - dense_3_loss: 0.0559 - dense_5_loss: 0.0846 - dense_7_loss: 0.0867 - dense_1_accuracy: 0.9948 - dense_3_accuracy: 0.9845 - dense_5_accuracy: 0.9768 - dense_7_accuracy: 0.9704 - val_loss: 19.8866 - val_dense_1_loss: 17.2439 - val_dense_3_loss: 2.0638 - val_dense_5_loss: 0.2729 - val_dense_7_loss: 0.3060 - val_dense_1_accuracy: 0.1392 - val_dense_3_accuracy: 0.6082 - val_dense_5_accuracy: 0.8918 - val_dense_7_accuracy: 0.8918\n",
      "Epoch 56/60\n",
      "25/25 [==============================] - 1s 32ms/step - loss: 0.2278 - dense_1_loss: 0.0138 - dense_3_loss: 0.0460 - dense_5_loss: 0.0812 - dense_7_loss: 0.0868 - dense_1_accuracy: 0.9974 - dense_3_accuracy: 0.9845 - dense_5_accuracy: 0.9742 - dense_7_accuracy: 0.9729 - val_loss: 20.3385 - val_dense_1_loss: 17.6062 - val_dense_3_loss: 2.1782 - val_dense_5_loss: 0.2398 - val_dense_7_loss: 0.3143 - val_dense_1_accuracy: 0.1546 - val_dense_3_accuracy: 0.5979 - val_dense_5_accuracy: 0.9227 - val_dense_7_accuracy: 0.9072\n",
      "Epoch 57/60\n",
      "25/25 [==============================] - 1s 32ms/step - loss: 0.2470 - dense_1_loss: 0.0186 - dense_3_loss: 0.0579 - dense_5_loss: 0.0923 - dense_7_loss: 0.0782 - dense_1_accuracy: 0.9923 - dense_3_accuracy: 0.9768 - dense_5_accuracy: 0.9716 - dense_7_accuracy: 0.9794 - val_loss: 20.0556 - val_dense_1_loss: 17.5301 - val_dense_3_loss: 1.8088 - val_dense_5_loss: 0.4091 - val_dense_7_loss: 0.3076 - val_dense_1_accuracy: 0.1546 - val_dense_3_accuracy: 0.6237 - val_dense_5_accuracy: 0.8866 - val_dense_7_accuracy: 0.9124\n",
      "Epoch 58/60\n",
      "25/25 [==============================] - 1s 32ms/step - loss: 0.2020 - dense_1_loss: 0.0133 - dense_3_loss: 0.0324 - dense_5_loss: 0.0859 - dense_7_loss: 0.0705 - dense_1_accuracy: 0.9936 - dense_3_accuracy: 0.9923 - dense_5_accuracy: 0.9755 - dense_7_accuracy: 0.9781 - val_loss: 21.2938 - val_dense_1_loss: 18.5832 - val_dense_3_loss: 2.0034 - val_dense_5_loss: 0.3598 - val_dense_7_loss: 0.3473 - val_dense_1_accuracy: 0.1856 - val_dense_3_accuracy: 0.6340 - val_dense_5_accuracy: 0.8866 - val_dense_7_accuracy: 0.9227\n",
      "Epoch 59/60\n",
      "25/25 [==============================] - 1s 32ms/step - loss: 0.2272 - dense_1_loss: 0.0116 - dense_3_loss: 0.0509 - dense_5_loss: 0.0967 - dense_7_loss: 0.0680 - dense_1_accuracy: 0.9974 - dense_3_accuracy: 0.9807 - dense_5_accuracy: 0.9652 - dense_7_accuracy: 0.9807 - val_loss: 21.8941 - val_dense_1_loss: 19.1306 - val_dense_3_loss: 2.1360 - val_dense_5_loss: 0.3058 - val_dense_7_loss: 0.3217 - val_dense_1_accuracy: 0.1856 - val_dense_3_accuracy: 0.6289 - val_dense_5_accuracy: 0.9175 - val_dense_7_accuracy: 0.9072\n",
      "Epoch 60/60\n",
      "25/25 [==============================] - 1s 31ms/step - loss: 0.2417 - dense_1_loss: 0.0089 - dense_3_loss: 0.0626 - dense_5_loss: 0.0914 - dense_7_loss: 0.0787 - dense_1_accuracy: 0.9948 - dense_3_accuracy: 0.9845 - dense_5_accuracy: 0.9691 - dense_7_accuracy: 0.9704 - val_loss: 21.6487 - val_dense_1_loss: 18.9820 - val_dense_3_loss: 2.1280 - val_dense_5_loss: 0.2668 - val_dense_7_loss: 0.2719 - val_dense_1_accuracy: 0.1856 - val_dense_3_accuracy: 0.6134 - val_dense_5_accuracy: 0.9175 - val_dense_7_accuracy: 0.9330\n"
     ]
    }
   ],
   "source": [
    "hist = model.fit(X_train, [y_train[0], y_train[1], y_train[2], y_train[3]], batch_size=32, epochs=60, validation_split=0.2)"
   ]
  },
  {
   "cell_type": "code",
   "execution_count": 13,
   "metadata": {
    "colab": {
     "base_uri": "https://localhost:8080/",
     "height": 279
    },
    "colab_type": "code",
    "id": "J_eXJ_nHn3vm",
    "outputId": "14cd77bd-3e82-4a35-dc21-b5dd8891535b"
   },
   "outputs": [
    {
     "data": {
      "image/png": "[encoded data removed]",
      "text/plain": [
       "<Figure size 432x288 with 1 Axes>"
      ]
     },
     "metadata": {
      "needs_background": "light"
     },
     "output_type": "display_data"
    }
   ],
   "source": [
    "for label in [\"loss\"]:\n",
    "  plt.plot(hist.history[label],label=label)\n",
    "plt.legend()\n",
    "plt.xlabel(\"Epochs\")\n",
    "plt.ylabel(\"Loss\")\n",
    "plt.show()"
   ]
  },
  {
   "cell_type": "code",
   "execution_count": 14,
   "metadata": {
    "colab": {
     "base_uri": "https://localhost:8080/",
     "height": 50
    },
    "colab_type": "code",
    "id": "nWZ6OlO_HtR-",
    "outputId": "10921a5f-b55b-41d1-c1b4-56ef9a5bb5a2"
   },
   "outputs": [
    {
     "name": "stdout",
     "output_type": "stream",
     "text": [
      "31/31 [==============================] - 0s 8ms/step - loss: 4.3309 - dense_1_loss: 3.7964 - dense_3_loss: 0.4258 - dense_5_loss: 0.0540 - dense_7_loss: 0.0547 - dense_1_accuracy: 0.8371 - dense_3_accuracy: 0.9227 - dense_5_accuracy: 0.9835 - dense_7_accuracy: 0.9866           \n",
      "Loss on training set= 4.330890655517578\n"
     ]
    }
   ],
   "source": [
    "preds = model.evaluate(X_train, [y_train[0], y_train[1], y_train[2], y_train[3]])\n",
    "print (\"Loss on training set= \" + str(preds[0]))"
   ]
  },
  {
   "cell_type": "code",
   "execution_count": 15,
   "metadata": {
    "colab": {
     "base_uri": "https://localhost:8080/",
     "height": 50
    },
    "colab_type": "code",
    "id": "y7n1eoTVH728",
    "outputId": "f3bf6f79-f567-4cc5-db03-495f3a4d2e80"
   },
   "outputs": [
    {
     "name": "stdout",
     "output_type": "stream",
     "text": [
      "6/6 [==============================] - 0s 8ms/step - loss: 30.1926 - dense_1_loss: 28.0747 - dense_3_loss: 1.2821 - dense_5_loss: 0.5145 - dense_7_loss: 0.3212 - dense_1_accuracy: 0.0000e+00 - dense_3_accuracy: 0.6807 - dense_5_accuracy: 0.8193 - dense_7_accuracy: 0.8855\n",
      "Loss on testing set= 30.192609786987305\n"
     ]
    }
   ],
   "source": [
    "preds = model.evaluate(X_test, [y_test[0], y_test[1], y_test[2], y_test[3]])\n",
    "print (\"Loss on testing set= \" + str(preds[0]))"
   ]
  },
  {
   "cell_type": "code",
   "execution_count": 16,
   "metadata": {
    "colab": {},
    "colab_type": "code",
    "id": "I_35fIjvwTp6"
   },
   "outputs": [],
   "source": [
    "def predict(filepath):\n",
    "    img = cv2.imread(filepath, cv2.IMREAD_GRAYSCALE)\n",
    "\n",
    "    if img is not None:\n",
    "        img = img / 255.0 \n",
    "    else:\n",
    "        print(\"Not detected\");\n",
    "\n",
    "    res = np.array(model.predict(img[np.newaxis, :, :, np.newaxis]))\n",
    "    result = np.reshape(res, (4, 36))\n",
    "    k_ind = []\n",
    "    probs = []\n",
    "    for i in result:\n",
    "        k_ind.append(np.argmax(i)) \n",
    "\n",
    "    capt = '' \n",
    "    for k in k_ind:\n",
    "        capt += character[k]\n",
    "    return capt "
   ]
  },
  {
   "cell_type": "code",
   "execution_count": 17,
   "metadata": {
    "colab": {
     "base_uri": "https://localhost:8080/",
     "height": 152
    },
    "colab_type": "code",
    "id": "RYKQY-HL1aU4",
    "outputId": "867b7f2c-6c8c-49ed-fc69-5548423ff42e"
   },
   "outputs": [
    {
     "data": {
      "text/plain": [
       "<matplotlib.image.AxesImage at 0x25046297340>"
      ]
     },
     "execution_count": 17,
     "metadata": {},
     "output_type": "execute_result"
    },
    {
     "data": {
      "image/png": "[encoded data removed]",
      "text/plain": [
       "<Figure size 432x288 with 1 Axes>"
      ]
     },
     "metadata": {
      "needs_background": "light"
     },
     "output_type": "display_data"
    }
   ],
   "source": [
    "img=cv2.imread('./generated_captcha_images/2A2X.png',cv2.IMREAD_GRAYSCALE)\n",
    "plt.imshow(img, cmap=plt.get_cmap('gray'))\n"
   ]
  },
  {
   "cell_type": "code",
   "execution_count": 18,
   "metadata": {
    "colab": {
     "base_uri": "https://localhost:8080/",
     "height": 34
    },
    "colab_type": "code",
    "id": "jMDiviFF3UOr",
    "outputId": "068d1bef-dd71-43e4-f508-141066db6bdb"
   },
   "outputs": [
    {
     "name": "stdout",
     "output_type": "stream",
     "text": [
      "Predicted Captcha = 2A2X\n"
     ]
    }
   ],
   "source": [
    "print(\"Predicted Captcha =\",predict('./generated_captcha_images/2A2X.png'))"
   ]
  },
  {
   "cell_type": "code",
   "execution_count": 19,
   "metadata": {
    "colab": {
     "base_uri": "https://localhost:8080/",
     "height": 152
    },
    "colab_type": "code",
    "id": "cnwJn3lF3Xo8",
    "outputId": "a8650182-ebfe-4128-f787-b333378666ab"
   },
   "outputs": [
    {
     "data": {
      "text/plain": [
       "<matplotlib.image.AxesImage at 0x2504ab331f0>"
      ]
     },
     "execution_count": 19,
     "metadata": {},
     "output_type": "execute_result"
    },
    {
     "data": {
      "image/png": "[encoded data removed]",
      "text/plain": [
       "<Figure size 432x288 with 1 Axes>"
      ]
     },
     "metadata": {
      "needs_background": "light"
     },
     "output_type": "display_data"
    }
   ],
   "source": [
    "#Sample 2\n",
    "img=cv2.imread('./generated_captcha_images/D3GC.png',cv2.IMREAD_GRAYSCALE)\n",
    "plt.imshow(img, cmap=plt.get_cmap('gray'))"
   ]
  },
  {
   "cell_type": "code",
   "execution_count": 20,
   "metadata": {
    "colab": {
     "base_uri": "https://localhost:8080/",
     "height": 34
    },
    "colab_type": "code",
    "id": "ww--A_T63cJx",
    "outputId": "5075d450-6610-4fb6-e5ec-18d365d1256a"
   },
   "outputs": [
    {
     "name": "stdout",
     "output_type": "stream",
     "text": [
      "Predicted Captcha = D3GC\n"
     ]
    }
   ],
   "source": [
    "print(\"Predicted Captcha =\",predict('./generated_captcha_images/D3GC.png'))"
   ]
  },
  {
   "cell_type": "code",
   "execution_count": null,
   "metadata": {},
   "outputs": [],
   "source": []
  }
 ],
 "metadata": {
  "colab": {
   "collapsed_sections": [],
   "name": "Captcha Recognition Project Final.ipynb",
   "provenance": []
  },
  "kernelspec": {
   "display_name": "Python 3 (ipykernel)",
   "language": "python",
   "name": "python3"
  },
  "language_info": {
   "codemirror_mode": {
    "name": "ipython",
    "version": 3
   },
   "file_extension": ".py",
   "mimetype": "text/x-python",
   "name": "python",
   "nbconvert_exporter": "python",
   "pygments_lexer": "ipython3",
   "version": "3.10.2"
  }
 },
 "nbformat": 4,
 "nbformat_minor": 1
}
